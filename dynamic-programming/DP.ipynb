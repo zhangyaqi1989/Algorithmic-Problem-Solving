{
 "cells": [
  {
   "cell_type": "code",
   "execution_count": 1,
   "metadata": {},
   "outputs": [],
   "source": [
    "# A, d, b, k\n",
    "# A is price"
   ]
  },
  {
   "cell_type": "code",
   "execution_count": 12,
   "metadata": {},
   "outputs": [],
   "source": [
    "# dollor, bitcoin\n",
    "A = [20, 50, 10, 20, 60, 100]\n",
    "d = 10\n",
    "b = 3\n",
    "k = 100\n",
    "def soln(A, d, b, k):\n",
    "    hold_d, hold_b = k, 0\n",
    "    for a in A:\n",
    "        # each bitcoin is a dollars\n",
    "        hold_d, hold_b = max(hold_d, (hold_b - b) * a), max(hold_b, (hold_d - d) / a)\n",
    "        print(hold_d, hold_b)\n",
    "    return hold_d"
   ]
  },
  {
   "cell_type": "code",
   "execution_count": 13,
   "metadata": {},
   "outputs": [
    {
     "name": "stdout",
     "output_type": "stream",
     "text": [
      "100 4.5\n",
      "100 4.5\n",
      "100 9.0\n",
      "120.0 9.0\n",
      "360.0 9.0\n",
      "600.0 9.0\n"
     ]
    },
    {
     "data": {
      "text/plain": [
       "600.0"
      ]
     },
     "execution_count": 13,
     "metadata": {},
     "output_type": "execute_result"
    }
   ],
   "source": [
    "soln(A, d, b, k)"
   ]
  },
  {
   "cell_type": "code",
   "execution_count": null,
   "metadata": {},
   "outputs": [],
   "source": []
  }
 ],
 "metadata": {
  "kernelspec": {
   "display_name": "Python 3",
   "language": "python",
   "name": "python3"
  },
  "language_info": {
   "codemirror_mode": {
    "name": "ipython",
    "version": 3
   },
   "file_extension": ".py",
   "mimetype": "text/x-python",
   "name": "python",
   "nbconvert_exporter": "python",
   "pygments_lexer": "ipython3",
   "version": "3.7.1"
  }
 },
 "nbformat": 4,
 "nbformat_minor": 2
}
