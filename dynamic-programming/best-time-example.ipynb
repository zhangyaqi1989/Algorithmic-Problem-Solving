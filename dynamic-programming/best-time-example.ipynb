{
 "cells": [
  {
   "cell_type": "code",
   "execution_count": 1,
   "metadata": {},
   "outputs": [],
   "source": [
    "# A, d, b, k\n",
    "# A is price"
   ]
  },
  {
   "cell_type": "code",
   "execution_count": 2,
   "metadata": {},
   "outputs": [],
   "source": [
    "# dollor, bitcoin\n",
    "A = [20, 50, 10, 60]\n",
    "d = 10\n",
    "b = 3\n",
    "k = 100\n",
    "def soln(A, d, b, k):\n",
    "    hold_d, hold_b = k, 0\n",
    "    for a in A:\n",
    "        # each bitcoin is a dollars\n",
    "        hold_d, hold_b = max(hold_d, (hold_b - b) * a), max(hold_b, (hold_d - d) / a)\n",
    "#         print(hold_d, hold_b)\n",
    "    return hold_d"
   ]
  },
  {
   "cell_type": "code",
   "execution_count": 3,
   "metadata": {},
   "outputs": [
    {
     "data": {
      "text/plain": [
       "360.0"
      ]
     },
     "execution_count": 3,
     "metadata": {},
     "output_type": "execute_result"
    }
   ],
   "source": [
    "soln(A, d, b, k)"
   ]
  },
  {
   "cell_type": "code",
   "execution_count": null,
   "metadata": {},
   "outputs": [],
   "source": []
  }
 ],
 "metadata": {
  "kernelspec": {
   "display_name": "Python 3",
   "language": "python",
   "name": "python3"
  },
  "language_info": {
   "codemirror_mode": {
    "name": "ipython",
    "version": 3
   },
   "file_extension": ".py",
   "mimetype": "text/x-python",
   "name": "python",
   "nbconvert_exporter": "python",
   "pygments_lexer": "ipython3",
   "version": "3.7.1"
  }
 },
 "nbformat": 4,
 "nbformat_minor": 2
}
