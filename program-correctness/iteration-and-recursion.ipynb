{
 "cells": [
  {
   "cell_type": "markdown",
   "metadata": {},
   "source": [
    "## 0. Utility"
   ]
  },
  {
   "cell_type": "code",
   "execution_count": 1,
   "metadata": {},
   "outputs": [],
   "source": [
    "import random"
   ]
  },
  {
   "cell_type": "code",
   "execution_count": 2,
   "metadata": {},
   "outputs": [],
   "source": [
    "def check_fun(ref_fun, fun, input_gen, ntimes=10, **kwargs):\n",
    "    \"Check fun with reference implementation.\"\n",
    "    for _ in range(ntimes):\n",
    "        input_ = input_gen(**kwargs)\n",
    "        assert(fun(*input_) == ref_fun(*input_))\n",
    "    print(\"Tests passed\")"
   ]
  },
  {
   "cell_type": "markdown",
   "metadata": {},
   "source": [
    "## 1. Power"
   ]
  },
  {
   "cell_type": "markdown",
   "metadata": {},
   "source": [
    "![power](images/it-power.PNG)"
   ]
  },
  {
   "cell_type": "code",
   "execution_count": 3,
   "metadata": {},
   "outputs": [],
   "source": [
    "def power_input_gen(mx):\n",
    "    return random.randint(0, mx), random.randint(1, mx)"
   ]
  },
  {
   "cell_type": "code",
   "execution_count": 4,
   "metadata": {},
   "outputs": [],
   "source": [
    "def it_power(a, b):\n",
    "    \"Implement iterative power.\"\n",
    "    r, c = a, 1\n",
    "    while c < b:\n",
    "        r *= a\n",
    "        c += 1\n",
    "    return r"
   ]
  },
  {
   "cell_type": "code",
   "execution_count": 5,
   "metadata": {},
   "outputs": [
    {
     "name": "stdout",
     "output_type": "stream",
     "text": [
      "Tests passed\n"
     ]
    }
   ],
   "source": [
    "check_fun((lambda a, b : a ** b), it_power, power_input_gen, ntimes=10, mx=100)"
   ]
  },
  {
   "cell_type": "markdown",
   "metadata": {},
   "source": [
    "![power](images/rec-power.PNG)"
   ]
  },
  {
   "cell_type": "code",
   "execution_count": 6,
   "metadata": {},
   "outputs": [],
   "source": [
    "def rec_power(a, b):\n",
    "    \"Implement recursive power.\"\n",
    "    if b == 1:\n",
    "        return a\n",
    "    else:\n",
    "        return rec_power(a, b - 1) * a"
   ]
  },
  {
   "cell_type": "code",
   "execution_count": 7,
   "metadata": {},
   "outputs": [
    {
     "name": "stdout",
     "output_type": "stream",
     "text": [
      "Tests passed\n"
     ]
    }
   ],
   "source": [
    "check_fun((lambda a, b : a ** b), rec_power, power_input_gen, ntimes=10, mx=100)"
   ]
  },
  {
   "cell_type": "markdown",
   "metadata": {},
   "source": [
    "# 2. GCD"
   ]
  },
  {
   "cell_type": "markdown",
   "metadata": {},
   "source": [
    "![gcd](images/it-gcd.PNG)"
   ]
  },
  {
   "cell_type": "code",
   "execution_count": 8,
   "metadata": {},
   "outputs": [],
   "source": [
    "def it_gcd(a, b):\n",
    "    \"Implement iterative GCD.\"\n",
    "    x, y = a, b\n",
    "    while x != y:\n",
    "        if x < y:\n",
    "            y = y - x\n",
    "        else:\n",
    "            x = x - y\n",
    "    return x"
   ]
  },
  {
   "cell_type": "code",
   "execution_count": 9,
   "metadata": {},
   "outputs": [],
   "source": [
    "def gcd_input_gen(mx):\n",
    "    return random.randint(0, mx), random.randint(1, mx)"
   ]
  },
  {
   "cell_type": "code",
   "execution_count": 10,
   "metadata": {},
   "outputs": [
    {
     "data": {
      "text/plain": [
       "2"
      ]
     },
     "execution_count": 10,
     "metadata": {},
     "output_type": "execute_result"
    }
   ],
   "source": [
    "import math\n",
    "math.gcd(4, 2)"
   ]
  },
  {
   "cell_type": "code",
   "execution_count": 11,
   "metadata": {},
   "outputs": [
    {
     "name": "stdout",
     "output_type": "stream",
     "text": [
      "Tests passed\n"
     ]
    }
   ],
   "source": [
    "check_fun(math.gcd, it_gcd, gcd_input_gen, ntimes=10, mx=1000)"
   ]
  },
  {
   "cell_type": "markdown",
   "metadata": {},
   "source": [
    "![gcd](images/rec-gcd.PNG)"
   ]
  },
  {
   "cell_type": "code",
   "execution_count": 12,
   "metadata": {},
   "outputs": [],
   "source": [
    "def rec_gcd(a, b):\n",
    "    \"Implement recursive GCD.\"\n",
    "    if a == b:\n",
    "        return a\n",
    "    else:\n",
    "        if a < b:\n",
    "            return rec_gcd(a, b - a)\n",
    "        else:\n",
    "            return rec_gcd(a - b, b)"
   ]
  },
  {
   "cell_type": "code",
   "execution_count": 13,
   "metadata": {},
   "outputs": [
    {
     "name": "stdout",
     "output_type": "stream",
     "text": [
      "Tests passed\n"
     ]
    }
   ],
   "source": [
    "check_fun(math.gcd, rec_gcd, gcd_input_gen, ntimes=10, mx=1000)"
   ]
  },
  {
   "cell_type": "markdown",
   "metadata": {},
   "source": [
    "![gcd](images/euc-gcd.PNG)"
   ]
  },
  {
   "cell_type": "code",
   "execution_count": 14,
   "metadata": {},
   "outputs": [],
   "source": [
    "def euclid(a, b):\n",
    "    \"Implement Euclid GCD.\"\n",
    "    if a <= b:\n",
    "        return rec_euclid(a, b)\n",
    "    else:\n",
    "        return rec_euclid(b, a)\n",
    "def rec_euclid(a, b):\n",
    "    if a == 0:\n",
    "        return b\n",
    "    else:\n",
    "        return rec_euclid(b % a, a)"
   ]
  },
  {
   "cell_type": "code",
   "execution_count": 15,
   "metadata": {},
   "outputs": [
    {
     "name": "stdout",
     "output_type": "stream",
     "text": [
      "Tests passed\n"
     ]
    }
   ],
   "source": [
    "check_fun(math.gcd, euclid, gcd_input_gen, ntimes=10, mx=1000)"
   ]
  },
  {
   "cell_type": "markdown",
   "metadata": {},
   "source": [
    "## Merge"
   ]
  },
  {
   "cell_type": "markdown",
   "metadata": {},
   "source": [
    "![merge](images/merge.PNG)"
   ]
  },
  {
   "cell_type": "code",
   "execution_count": 16,
   "metadata": {},
   "outputs": [],
   "source": [
    "def merge(A, B):\n",
    "    \"Merge two sorted arrays.\"\n",
    "    m, n = len(A), len(B)\n",
    "    i, j = 0, 0\n",
    "    k = 0\n",
    "    C = [None] * (m + n)\n",
    "    while k < m + n:\n",
    "        if i >= m:\n",
    "            C[k] = B[j]\n",
    "            j += 1\n",
    "        elif j >= n:\n",
    "            C[k] = A[i]\n",
    "            i += 1\n",
    "        elif A[i] <= B[j]:\n",
    "            C[k] = A[i]\n",
    "            i += 1\n",
    "        else:\n",
    "            C[k] = B[j]\n",
    "            j += 1\n",
    "        k += 1\n",
    "    return C"
   ]
  },
  {
   "cell_type": "code",
   "execution_count": 17,
   "metadata": {},
   "outputs": [],
   "source": [
    "def merge_input_gen(m, n):\n",
    "    A = [random.randint(0, m) for _ in range(m)]\n",
    "    B = [random.randint(0, n) for _ in range(n)]\n",
    "    return sorted(A), sorted(B)"
   ]
  },
  {
   "cell_type": "code",
   "execution_count": 18,
   "metadata": {},
   "outputs": [
    {
     "name": "stdout",
     "output_type": "stream",
     "text": [
      "Tests passed\n"
     ]
    }
   ],
   "source": [
    "import heapq\n",
    "check_fun((lambda A, B : list(heapq.merge(A, B))), merge, merge_input_gen, ntimes=10, m=400, n=300)"
   ]
  },
  {
   "cell_type": "code",
   "execution_count": null,
   "metadata": {},
   "outputs": [],
   "source": []
  }
 ],
 "metadata": {
  "kernelspec": {
   "display_name": "Python 3",
   "language": "python",
   "name": "python3"
  },
  "language_info": {
   "codemirror_mode": {
    "name": "ipython",
    "version": 3
   },
   "file_extension": ".py",
   "mimetype": "text/x-python",
   "name": "python",
   "nbconvert_exporter": "python",
   "pygments_lexer": "ipython3",
   "version": "3.7.1"
  }
 },
 "nbformat": 4,
 "nbformat_minor": 2
}
