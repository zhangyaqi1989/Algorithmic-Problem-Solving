{
 "cells": [
  {
   "cell_type": "markdown",
   "metadata": {},
   "source": [
    "## 0. Utility"
   ]
  },
  {
   "cell_type": "code",
   "execution_count": 1,
   "metadata": {},
   "outputs": [],
   "source": [
    "def check_fun(ref_fun, fun, input_gen, ntimes=10, **kwargs):\n",
    "    \"Check fun with reference implementation.\"\n",
    "    for _ in range(ntimes):\n",
    "        input_ = input_gen(**kwargs)\n",
    "        assert(fun(*input_) == ref_fun(*input_))\n",
    "    print(\"Tests passed\")"
   ]
  },
  {
   "cell_type": "code",
   "execution_count": 2,
   "metadata": {},
   "outputs": [],
   "source": [
    "import random\n",
    "\n",
    "def select_input_gen(n, MAX=(1 << 32 - 1)):\n",
    "    \"generate select algorithm input.\"\n",
    "    array = [random.randint(0, MAX) for _ in range(n)]\n",
    "    return array, random.randint(0, n - 1)"
   ]
  },
  {
   "cell_type": "markdown",
   "metadata": {},
   "source": [
    "## 1. Selection"
   ]
  },
  {
   "cell_type": "code",
   "execution_count": 3,
   "metadata": {},
   "outputs": [],
   "source": [
    "import math\n",
    "def select(A, k):\n",
    "    \"Return the k-th (0 index) smallest element of A.\"\n",
    "    w = 5\n",
    "    n = len(A)\n",
    "    if n < w:\n",
    "        return sorted(A)[k]\n",
    "    ngroups = math.ceil(n // w)\n",
    "    medians = [None] * ngroups\n",
    "    for i in range(ngroups):\n",
    "        B = sorted(A[i * w : (i + 1) * w])\n",
    "        medians[i] = B[len(B) // 2]\n",
    "    median = select(medians, ngroups // 2)\n",
    "    L, R= [], []\n",
    "    for num in A:\n",
    "        if num < median:\n",
    "            L.append(num)\n",
    "        elif num > median:\n",
    "            R.append(num)\n",
    "    if k < len(L):\n",
    "        return select(L, k)\n",
    "    elif k < n - len(R):\n",
    "        return median\n",
    "    else:\n",
    "        return select(R, k - (n - len(R)))"
   ]
  },
  {
   "cell_type": "code",
   "execution_count": 4,
   "metadata": {},
   "outputs": [
    {
     "name": "stdout",
     "output_type": "stream",
     "text": [
      "Tests passed\n"
     ]
    }
   ],
   "source": [
    "check_fun((lambda array, k : sorted(array)[k]), select, select_input_gen, ntimes=10, n=1000)"
   ]
  }
 ],
 "metadata": {
  "kernelspec": {
   "display_name": "Python 3",
   "language": "python",
   "name": "python3"
  },
  "language_info": {
   "codemirror_mode": {
    "name": "ipython",
    "version": 3
   },
   "file_extension": ".py",
   "mimetype": "text/x-python",
   "name": "python",
   "nbconvert_exporter": "python",
   "pygments_lexer": "ipython3",
   "version": "3.7.1"
  }
 },
 "nbformat": 4,
 "nbformat_minor": 2
}
