{
 "cells": [
  {
   "cell_type": "markdown",
   "metadata": {},
   "source": [
    "## 0. Utility"
   ]
  },
  {
   "cell_type": "code",
   "execution_count": 1,
   "metadata": {},
   "outputs": [],
   "source": [
    "import random\n",
    "from timeit import default_timer as timer\n",
    "import matplotlib.pyplot as plt\n",
    "%matplotlib inline"
   ]
  },
  {
   "cell_type": "code",
   "execution_count": 2,
   "metadata": {},
   "outputs": [],
   "source": [
    "def check_fun(ref_fun, fun, input_gen, n = 1000, ntimes=10):\n",
    "    \"Check fun with reference implementation.\"\n",
    "    for _ in range(ntimes):\n",
    "        input_ = input_gen(n)\n",
    "        assert(fun(input_) == ref_fun(input_))\n",
    "    print(\"Tests passed\")     "
   ]
  },
  {
   "cell_type": "code",
   "execution_count": 3,
   "metadata": {},
   "outputs": [],
   "source": [
    "def generate_shuffle_array(n=1000):\n",
    "    \"Generate a shuffled array [0...n)\"\n",
    "    array = list(range(n))\n",
    "    random.shuffle(array)\n",
    "    return array"
   ]
  },
  {
   "cell_type": "code",
   "execution_count": 4,
   "metadata": {},
   "outputs": [],
   "source": [
    "def scaling_analyze(fun, input_gen, max_exp=4):\n",
    "    \"Do scaling analysis on fun from 10**0 to 10**max_exp.\"\n",
    "    ns, times = [], []\n",
    "    for e in range(max_exp + 1):\n",
    "        n = 10 ** e\n",
    "        ns.append(n)\n",
    "        input_ = input_gen(n)\n",
    "        start = timer()\n",
    "        _ = fun(input_)\n",
    "        end = timer()\n",
    "        times.append(end - start)\n",
    "    return ns, times"
   ]
  },
  {
   "cell_type": "code",
   "execution_count": 5,
   "metadata": {},
   "outputs": [],
   "source": [
    "# ns, times = scaling_analyze(sorted, generate_shuffle_array, max_exp=6)\n",
    "# plt.loglog(ns, times, 'bo')"
   ]
  },
  {
   "cell_type": "markdown",
   "metadata": {},
   "source": [
    "## 1. Selection Sort"
   ]
  },
  {
   "cell_type": "markdown",
   "metadata": {},
   "source": [
    "![selection sort](images/selection-sort.PNG)"
   ]
  },
  {
   "cell_type": "code",
   "execution_count": 6,
   "metadata": {},
   "outputs": [],
   "source": [
    "def selection_sort(array):\n",
    "    \"Implement selection sort to sort an array.\"\n",
    "    A = list(array)\n",
    "    n = len(A)\n",
    "    for i in range(n):\n",
    "        min_idx = i\n",
    "        for j in range(i + 1, n):\n",
    "            if A[j] < A[min_idx]:\n",
    "                min_idx = j\n",
    "        A[min_idx], A[i] = A[i], A[min_idx]\n",
    "    return A"
   ]
  },
  {
   "cell_type": "code",
   "execution_count": 7,
   "metadata": {},
   "outputs": [
    {
     "name": "stdout",
     "output_type": "stream",
     "text": [
      "Tests passed\n"
     ]
    }
   ],
   "source": [
    "check_fun(sorted, selection_sort, generate_shuffle_array, n = 500, ntimes=10)"
   ]
  },
  {
   "cell_type": "code",
   "execution_count": 8,
   "metadata": {},
   "outputs": [],
   "source": [
    "# ns, times = scaling_analyze(selection_sort, generate_shuffle_array, max_exp=4)"
   ]
  },
  {
   "cell_type": "code",
   "execution_count": 9,
   "metadata": {},
   "outputs": [],
   "source": [
    "# plt.loglog(ns, times, 'bo')"
   ]
  },
  {
   "cell_type": "markdown",
   "metadata": {},
   "source": [
    "## 2. Insertion Sort\n",
    "\n",
    "![Insertion_Sort](images/insertion-sort.PNG)"
   ]
  },
  {
   "cell_type": "code",
   "execution_count": 10,
   "metadata": {},
   "outputs": [],
   "source": [
    "def insertion_sort(array):\n",
    "    \"Implement insertion sort to sort an array.\"\n",
    "    A = list(array)\n",
    "    n = len(A)\n",
    "    for k in range(n - 1):\n",
    "        i = k + 1\n",
    "        while i > 0 and A[i - 1] > A[i]:\n",
    "            A[i - 1], A[i] = A[i], A[i - 1]\n",
    "            i -= 1\n",
    "    return A"
   ]
  },
  {
   "cell_type": "code",
   "execution_count": 11,
   "metadata": {},
   "outputs": [
    {
     "name": "stdout",
     "output_type": "stream",
     "text": [
      "Tests passed\n"
     ]
    }
   ],
   "source": [
    "check_fun(sorted, insertion_sort, generate_shuffle_array, n=500, ntimes=10)"
   ]
  },
  {
   "cell_type": "markdown",
   "metadata": {},
   "source": [
    "## 3. Bubble Sort"
   ]
  },
  {
   "cell_type": "markdown",
   "metadata": {},
   "source": [
    "![Bubble Sort](images/bubble-sort.PNG)"
   ]
  },
  {
   "cell_type": "code",
   "execution_count": 12,
   "metadata": {},
   "outputs": [],
   "source": [
    "def bubble_sort(array):\n",
    "    \"Implement bubble sort to sort an array.\"\n",
    "    A = list(array)\n",
    "    n = len(A)\n",
    "    for s in range(n - 1):\n",
    "        for k in range(n - 1 - s):\n",
    "            if A[k] > A[k + 1]:\n",
    "                A[k], A[k + 1] = A[k + 1], A[k]\n",
    "    return A"
   ]
  },
  {
   "cell_type": "code",
   "execution_count": 13,
   "metadata": {},
   "outputs": [
    {
     "name": "stdout",
     "output_type": "stream",
     "text": [
      "Tests passed\n"
     ]
    }
   ],
   "source": [
    "check_fun(sorted, bubble_sort, generate_shuffle_array, n=500, ntimes=10)"
   ]
  },
  {
   "cell_type": "markdown",
   "metadata": {},
   "source": [
    "## 4. Merge Sort"
   ]
  },
  {
   "cell_type": "markdown",
   "metadata": {},
   "source": [
    "![Merge Sort](images/merge-sort.PNG)"
   ]
  },
  {
   "cell_type": "code",
   "execution_count": 14,
   "metadata": {},
   "outputs": [],
   "source": [
    "def merge_sort(array):\n",
    "    \"Implement merge sort to sort an array.\"\n",
    "    A = list(array)\n",
    "    def merge_sort_helper(A):\n",
    "        \"helper function of merge sort\"\n",
    "        n = len(A)\n",
    "        if n == 1:\n",
    "            return A\n",
    "        else:\n",
    "            m = n // 2\n",
    "            L = merge_sort_helper(A[:m])\n",
    "            R = merge_sort_helper(A[m:])\n",
    "            i, l, r = 0, 0, 0\n",
    "            nL, nR = len(L), len(R)\n",
    "            while l < nL and r < nR:\n",
    "                if L[l] < R[r]:\n",
    "                    A[i] = L[l]\n",
    "                    l += 1\n",
    "                else:\n",
    "                    A[i] = R[r]\n",
    "                    r += 1\n",
    "                i += 1\n",
    "            for j in range(l, nL):\n",
    "                A[i] = L[j]\n",
    "                i += 1\n",
    "            for j in range(r, nR):\n",
    "                A[i] = R[j]\n",
    "                i += 1\n",
    "            return A\n",
    "    return merge_sort_helper(A)"
   ]
  },
  {
   "cell_type": "code",
   "execution_count": 15,
   "metadata": {},
   "outputs": [
    {
     "name": "stdout",
     "output_type": "stream",
     "text": [
      "Tests passed\n"
     ]
    }
   ],
   "source": [
    "check_fun(sorted, merge_sort, generate_shuffle_array, n=500, ntimes=10)"
   ]
  },
  {
   "cell_type": "code",
   "execution_count": 16,
   "metadata": {},
   "outputs": [],
   "source": [
    "# ns, times = scaling_analyze(sorted, generate_shuffle_array, max_exp=7)\n",
    "# plt.loglog(ns, times, 'bo')"
   ]
  },
  {
   "cell_type": "markdown",
   "metadata": {},
   "source": [
    "## 5. Quick Sort"
   ]
  },
  {
   "cell_type": "markdown",
   "metadata": {},
   "source": [
    "![Quick Sort](images/quick-sort.PNG)"
   ]
  },
  {
   "cell_type": "code",
   "execution_count": 17,
   "metadata": {},
   "outputs": [],
   "source": [
    "def quick_sort(array):\n",
    "    \"Implement quick sort to sort an array.\"\n",
    "    A = list(array)\n",
    "    def partition(A, lo, hi):\n",
    "        \"partition function.\"\n",
    "        i = lo - 1\n",
    "        pivot = A[hi]\n",
    "        for j in range(lo, hi):\n",
    "            if A[j] <= pivot:\n",
    "                i = i + 1\n",
    "                A[i], A[j] = A[j], A[i]\n",
    "        A[i + 1], A[hi] = A[hi], A[i + 1]\n",
    "        return i + 1\n",
    "    def quick_sort_helper(A, lo, hi):\n",
    "        \"quick sort helper function.\"\n",
    "        if lo < hi:\n",
    "            i = partition(A, lo, hi)\n",
    "            quick_sort_helper(A, lo, i - 1)\n",
    "            quick_sort_helper(A, i + 1, hi)\n",
    "    quick_sort_helper(A, 0, len(A) - 1)\n",
    "    return A"
   ]
  },
  {
   "cell_type": "code",
   "execution_count": 18,
   "metadata": {},
   "outputs": [
    {
     "name": "stdout",
     "output_type": "stream",
     "text": [
      "Tests passed\n"
     ]
    }
   ],
   "source": [
    "check_fun(sorted, quick_sort, generate_shuffle_array, n=500, ntimes=10)"
   ]
  },
  {
   "cell_type": "code",
   "execution_count": null,
   "metadata": {},
   "outputs": [],
   "source": [
    "ns, times = scaling_analyze(sorted, generate_shuffle_array, max_exp=7)\n",
    "plt.loglog(ns, times, 'bo')"
   ]
  },
  {
   "cell_type": "markdown",
   "metadata": {},
   "source": [
    "## 6. Bucket Sort"
   ]
  },
  {
   "cell_type": "markdown",
   "metadata": {},
   "source": [
    "![Bucket Sort](images/bucket-sort.PNG)"
   ]
  },
  {
   "cell_type": "code",
   "execution_count": null,
   "metadata": {},
   "outputs": [],
   "source": [
    "def bucket_sort(array):\n",
    "    \"Implement Bucket sort of an array.\"\n",
    "    A = list(array)\n",
    "    mn, mx = min(A), max(A)\n",
    "    C = [0] * (mx - mn + 1) # counter\n",
    "    for num in A:\n",
    "        C[num - mn] += 1\n",
    "    k = 0\n",
    "    for i in range(mn, mx + 1):\n",
    "        for j in range(C[i - mn]):\n",
    "            A[k] = i\n",
    "            k += 1\n",
    "    return A"
   ]
  },
  {
   "cell_type": "code",
   "execution_count": null,
   "metadata": {},
   "outputs": [],
   "source": [
    "check_fun(sorted, bucket_sort, generate_shuffle_array, n=500, ntimes=10)"
   ]
  },
  {
   "cell_type": "markdown",
   "metadata": {},
   "source": [
    "## 7. Count Inversions"
   ]
  },
  {
   "cell_type": "markdown",
   "metadata": {},
   "source": [
    "![Count and Sort](images/count-and-sort.PNG)"
   ]
  },
  {
   "cell_type": "code",
   "execution_count": null,
   "metadata": {},
   "outputs": [],
   "source": [
    "def count_inversions_naive(array):\n",
    "    \"Naive implementation of inversions.\"\n",
    "    n = len(array)\n",
    "    cnt = 0\n",
    "    for i in range(n):\n",
    "        for j in range(i + 1, n):\n",
    "            if array[j] < array[i]:\n",
    "                cnt += 1\n",
    "    return cnt"
   ]
  },
  {
   "cell_type": "code",
   "execution_count": null,
   "metadata": {},
   "outputs": [],
   "source": [
    "def count_and_sort(array):\n",
    "    \"Count and sort.\"\n",
    "    A = list(array)\n",
    "    n = len(A)\n",
    "    if n == 1:\n",
    "        return (0, A)\n",
    "    else:\n",
    "        m = n // 2\n",
    "        cl, L = count_and_sort(A[:m])\n",
    "        cr, R = count_and_sort(A[m:])\n",
    "        c_cross = count_cross(L, R)\n",
    "        c = cl + cr + c_cross\n",
    "        B = merge(L, R)\n",
    "        return (c, B)"
   ]
  },
  {
   "cell_type": "code",
   "execution_count": null,
   "metadata": {},
   "outputs": [],
   "source": [
    "import heapq\n",
    "def merge(L, R):\n",
    "    \"Return merged array of sorted L and R.\"\n",
    "    return list(heapq.merge(L, R))"
   ]
  },
  {
   "cell_type": "markdown",
   "metadata": {},
   "source": [
    "![Count Cross](images/count-cross.PNG)"
   ]
  },
  {
   "cell_type": "code",
   "execution_count": null,
   "metadata": {},
   "outputs": [],
   "source": [
    "def count_cross(L, R):\n",
    "    \"count inversions between L and R.\"\n",
    "    l, r, c = 0, 0, 0\n",
    "    nL, nR = len(L), len(R)\n",
    "    while l < nL and r < nR:\n",
    "        if L[l] <= R[r]:\n",
    "            l += 1\n",
    "        else:\n",
    "            c += nL - l\n",
    "            r = r + 1\n",
    "    return c"
   ]
  },
  {
   "cell_type": "code",
   "execution_count": null,
   "metadata": {},
   "outputs": [],
   "source": [
    "def count_inversions(array):\n",
    "    \"implementation of counting inversions.\"\n",
    "    c, _ = count_and_sort(array)\n",
    "    return c"
   ]
  },
  {
   "cell_type": "code",
   "execution_count": null,
   "metadata": {},
   "outputs": [],
   "source": [
    "check_fun(count_inversions_naive, count_inversions, generate_shuffle_array, n=500, ntimes=10)"
   ]
  },
  {
   "cell_type": "code",
   "execution_count": null,
   "metadata": {},
   "outputs": [],
   "source": []
  }
 ],
 "metadata": {
  "kernelspec": {
   "display_name": "Python 3",
   "language": "python",
   "name": "python3"
  },
  "language_info": {
   "codemirror_mode": {
    "name": "ipython",
    "version": 3
   },
   "file_extension": ".py",
   "mimetype": "text/x-python",
   "name": "python",
   "nbconvert_exporter": "python",
   "pygments_lexer": "ipython3",
   "version": "3.6.8"
  }
 },
 "nbformat": 4,
 "nbformat_minor": 2
}
