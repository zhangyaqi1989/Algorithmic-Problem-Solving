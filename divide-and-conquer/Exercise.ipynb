{
 "cells": [
  {
   "cell_type": "markdown",
   "metadata": {},
   "source": [
    "## 0. Utility\n"
   ]
  },
  {
   "cell_type": "code",
   "execution_count": 1,
   "metadata": {},
   "outputs": [],
   "source": [
    "def check_fun(ref_fun, fun, input_gen, ntimes=10, **kwargs):\n",
    "    \"Check fun with reference implementation.\"\n",
    "    for _ in range(ntimes):\n",
    "        input_ = input_gen(**kwargs)\n",
    "        assert(fun(*input_) == ref_fun(*input_))\n",
    "    print(\"Tests passed\")"
   ]
  },
  {
   "cell_type": "code",
   "execution_count": 2,
   "metadata": {},
   "outputs": [],
   "source": [
    "import random\n",
    "def generate_shuffle_array(n=1000):\n",
    "    \"Generate a shuffled array [0...n)\"\n",
    "    array = list(range(n))\n",
    "    random.shuffle(array)\n",
    "    return (array, )"
   ]
  },
  {
   "cell_type": "markdown",
   "metadata": {},
   "source": [
    "## 1. Largest Complete Subtree\n",
    "\n",
    "![complete-subtree](images/largest-complete-subtree.PNG)"
   ]
  },
  {
   "cell_type": "code",
   "execution_count": 3,
   "metadata": {},
   "outputs": [],
   "source": [
    "# definition of binary tree node\n",
    "class BinaryTreeNode:\n",
    "    def __init__(self, val):\n",
    "        self.val = val\n",
    "        self.left = None\n",
    "        self.right = None"
   ]
  },
  {
   "cell_type": "code",
   "execution_count": 4,
   "metadata": {},
   "outputs": [],
   "source": [
    "def largest_complete_subtree(root : 'BinaryTreeNode') -> ('BinaryTreeNode', int):\n",
    "    if is_complete(root):\n",
    "        return root, depth(root)\n",
    "    else:\n",
    "        l, ld = largest_complete_subtree(root.left)\n",
    "        r, rd = largest_complete_subtree(root.right)\n",
    "        if ld > rd:\n",
    "            return l, ld\n",
    "        else:\n",
    "            return r, rd\n",
    "def is_complete(root : 'BinaryTreeNode') -> 'bool':\n",
    "    \"check if a tree is complete.\"\n",
    "    pass\n",
    "\n",
    "def depth(root : 'BinaryTreeNode') -> 'int' :\n",
    "    \"return depth of a tree\"\n",
    "    if not root:\n",
    "        return 0\n",
    "    else:\n",
    "        return 1 + max(depth(root.left), depth(root.right))"
   ]
  },
  {
   "cell_type": "markdown",
   "metadata": {},
   "source": [
    "## 2. Count Significant Inversions\n",
    "\n",
    "![inversion](images/count-significant-inversions.PNG)"
   ]
  },
  {
   "cell_type": "code",
   "execution_count": 5,
   "metadata": {},
   "outputs": [],
   "source": [
    "import heapq\n",
    "def count_significant_inversions(array):\n",
    "    \"count significant inversions of an array.\"\n",
    "    A = list(array)\n",
    "    def count_cross(L, R):\n",
    "        \"count significant inversions between L and R.\"\n",
    "        i, j = 0, 0\n",
    "        nL, nR = len(L), len(R)\n",
    "        cnt = 0\n",
    "        while i < nL and j < nR:\n",
    "            if L[i] <= 2 * R[j]:\n",
    "                i += 1\n",
    "            else:\n",
    "                cnt += nL - i\n",
    "                j += 1\n",
    "        return cnt\n",
    "    def merge(L, R):\n",
    "        \"merge sorted L and R into a sorted array.\"\n",
    "        return list(heapq.merge(L, R))\n",
    "    def count_and_sort(A):\n",
    "        n = len(A)\n",
    "        if n == 1:\n",
    "            return (0, A)\n",
    "        m = n // 2\n",
    "        cL, L = count_and_sort(A[:m])\n",
    "        cR, R = count_and_sort(A[m:])\n",
    "        c_cross = count_cross(L, R)\n",
    "        B = merge(L, R)\n",
    "        return cL + cR + c_cross, B\n",
    "    return count_and_sort(A)[0]"
   ]
  },
  {
   "cell_type": "code",
   "execution_count": 6,
   "metadata": {},
   "outputs": [],
   "source": [
    "def count_significant_inversions_simple(array):\n",
    "    cnt, n = 0, len(array)\n",
    "    for i in range(n):\n",
    "        for j in range(i + 1, n):\n",
    "            if array[i] > 2 * array[j]:\n",
    "                cnt += 1\n",
    "    return cnt"
   ]
  },
  {
   "cell_type": "code",
   "execution_count": 7,
   "metadata": {},
   "outputs": [
    {
     "name": "stdout",
     "output_type": "stream",
     "text": [
      "Tests passed\n"
     ]
    }
   ],
   "source": [
    "check_fun(count_significant_inversions_simple, count_significant_inversions, generate_shuffle_array, n=500, ntimes=10)"
   ]
  },
  {
   "cell_type": "markdown",
   "metadata": {},
   "source": [
    "## 3. Search a 2D Matrix\n",
    "![2D](images/search-in-2d-matrix.PNG)\n",
    "\n",
    "[Leetcode 240. Search a 2D matrix II](https://leetcode.com/problems/search-a-2d-matrix-ii/)\n",
    "\n",
    "Also check\n",
    "\n",
    "[Leetcode 74. Search a 2D Matrix](https://leetcode.com/problems/search-a-2d-matrix/)"
   ]
  },
  {
   "cell_type": "markdown",
   "metadata": {},
   "source": [
    "## 4. Find Minimum in Rotated Sorted Array\n",
    "\n",
    "![minimum](images/minimum-in-rotated-sorted-array.PNG)"
   ]
  },
  {
   "cell_type": "markdown",
   "metadata": {},
   "source": [
    "[Leetcode 153. Find Minimum in Rotated Sorted Array](https://leetcode.com/problems/find-minimum-in-rotated-sorted-array/)\n",
    "\n",
    "Also check\n",
    "\n",
    "[Leetcode 33. Search in Rotated Sorted Array](https://leetcode.com/problems/search-in-rotated-sorted-array/)\n",
    "\n",
    "[Leetcode 81. Search in Rotated Sorted Array II](https://leetcode.com/problems/search-in-rotated-sorted-array-ii/)"
   ]
  },
  {
   "cell_type": "code",
   "execution_count": null,
   "metadata": {},
   "outputs": [],
   "source": []
  }
 ],
 "metadata": {
  "kernelspec": {
   "display_name": "Python 3",
   "language": "python",
   "name": "python3"
  },
  "language_info": {
   "codemirror_mode": {
    "name": "ipython",
    "version": 3
   },
   "file_extension": ".py",
   "mimetype": "text/x-python",
   "name": "python",
   "nbconvert_exporter": "python",
   "pygments_lexer": "ipython3",
   "version": "3.7.1"
  }
 },
 "nbformat": 4,
 "nbformat_minor": 2
}
