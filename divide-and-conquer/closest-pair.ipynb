{
 "cells": [
  {
   "cell_type": "markdown",
   "metadata": {},
   "source": [
    "## 1. Closest Pair"
   ]
  },
  {
   "cell_type": "markdown",
   "metadata": {},
   "source": [
    "![Closest Pair](images/closest-pair.PNG)"
   ]
  },
  {
   "cell_type": "code",
   "execution_count": 1,
   "metadata": {},
   "outputs": [],
   "source": [
    "import collections\n",
    "import itertools\n",
    "import random\n",
    "import math"
   ]
  },
  {
   "cell_type": "code",
   "execution_count": 2,
   "metadata": {},
   "outputs": [],
   "source": [
    "Point = collections.namedtuple('Point', ['x', 'y'])"
   ]
  },
  {
   "cell_type": "code",
   "execution_count": 3,
   "metadata": {},
   "outputs": [],
   "source": [
    "def closest_pair_simple(points):\n",
    "    \"Naive implementation of closest pair of points.\"\n",
    "    def distance2(p1, p2):\n",
    "        return (p1.x - p2.x) ** 2 + (p1.y - p2.y) ** 2\n",
    "    mn = min(distance2(p1, p2) for p1, p2 in itertools.combinations(points, 2))\n",
    "    return math.sqrt(mn)"
   ]
  },
  {
   "cell_type": "code",
   "execution_count": 4,
   "metadata": {},
   "outputs": [],
   "source": [
    "mx_axis = 10000\n",
    "npoints = 100\n",
    "xs = [random.randint(0, mx_axis) for _ in range(npoints)]\n",
    "ys = [random.randint(0, mx_axis) for _ in range(npoints)]\n",
    "points = list(set(Point(x, y) for x, y in zip(xs, ys)))"
   ]
  },
  {
   "cell_type": "code",
   "execution_count": 5,
   "metadata": {},
   "outputs": [
    {
     "name": "stdout",
     "output_type": "stream",
     "text": [
      "31.04834939252005\n"
     ]
    }
   ],
   "source": [
    "print(closest_pair_simple(points))"
   ]
  },
  {
   "cell_type": "code",
   "execution_count": 6,
   "metadata": {},
   "outputs": [],
   "source": [
    "def closest_pair(points_xorder, points_yorder):\n",
    "    \"Compute smallest distance between two points in points.\"\n",
    "    n = len(points_xorder)\n",
    "    if n <= 1: # ...\n",
    "        return math.inf\n",
    "    else:\n",
    "        m = n // 2\n",
    "        L_points_xorder = points_xorder[:m]\n",
    "        R_points_xorder = points_xorder[m:]\n",
    "        L_points_yorder = []\n",
    "        R_points_yorder = []\n",
    "        x_mid = points_xorder[m].x\n",
    "        for point in points_yorder:\n",
    "            if point.x < x_mid:\n",
    "                L_points_yorder.append(point)\n",
    "            else:\n",
    "                R_points_yorder.append(point)\n",
    "        delta_L = closest_pair(L_points_xorder, L_points_yorder)\n",
    "        delta_R = closest_pair(R_points_xorder, R_points_yorder)\n",
    "        delta_M = min(delta_L, delta_R)\n",
    "        L = []\n",
    "        R = []\n",
    "        for point in L_points_yorder:\n",
    "            if point.x > x_mid - delta_M:\n",
    "                L.append(point)\n",
    "        for point in R_points_yorder:\n",
    "            if point.x < x_mid + delta_M:\n",
    "                R.append(point)\n",
    "        delta_cross = closest_across_split(L, R, delta_M)\n",
    "        delta = min(delta_M, delta_cross)\n",
    "        return delta"
   ]
  },
  {
   "cell_type": "code",
   "execution_count": 7,
   "metadata": {},
   "outputs": [],
   "source": [
    "def distance(p1, p2):\n",
    "    \"Compute distance between p1 and p2.\"\n",
    "    return math.hypot(p1.x - p2.x, p1.y - p2.y)\n",
    "\n",
    "assert(distance(Point(3, 4), Point(0, 0)) == 5)\n",
    "def closest_across_split(L, R, delta_M):\n",
    "    \"compute smallest distance between a point of L and a point of R.\"\n",
    "    delta_cross = math.inf\n",
    "    r = 0\n",
    "    nL, nR = len(L), len(R)\n",
    "    for l in range(nL):\n",
    "        while r < nR and R[r].y < L[l].y - delta_M:\n",
    "            r += 1\n",
    "        for d in range(6):\n",
    "            if r + d < nR:\n",
    "                dist = distance(L[l], R[r + d])\n",
    "                delta_cross = min(delta_cross, dist)\n",
    "    return delta_cross"
   ]
  },
  {
   "cell_type": "code",
   "execution_count": 8,
   "metadata": {},
   "outputs": [
    {
     "name": "stdout",
     "output_type": "stream",
     "text": [
      "31.04834939252005\n"
     ]
    }
   ],
   "source": [
    "points_xorder = sorted(points)\n",
    "points_yorder = sorted(points, key=lambda point : (point.y, point.x))\n",
    "print(closest_pair(points_xorder, points_yorder))"
   ]
  },
  {
   "cell_type": "code",
   "execution_count": 10,
   "metadata": {},
   "outputs": [
    {
     "name": "stdout",
     "output_type": "stream",
     "text": [
      "test passed\n"
     ]
    }
   ],
   "source": [
    "# check\n",
    "for _ in range(10):\n",
    "    mx_axis = 10000\n",
    "    npoints = 200\n",
    "    xs = [random.randint(0, mx_axis) for _ in range(npoints)]\n",
    "    ys = [random.randint(0, mx_axis) for _ in range(npoints)]\n",
    "    points = list(set(Point(x, y) for x, y in zip(xs, ys)))\n",
    "    points_xorder = sorted(points)\n",
    "    points_yorder = sorted(points, key=lambda point : (point.y, point.x))\n",
    "    dis = closest_pair(points_xorder, points_yorder)\n",
    "    dis_ref = closest_pair_simple(points)\n",
    "    assert(math.isclose(dis, dis_ref))\n",
    "print(\"test passed\")"
   ]
  },
  {
   "cell_type": "code",
   "execution_count": null,
   "metadata": {},
   "outputs": [],
   "source": []
  }
 ],
 "metadata": {
  "kernelspec": {
   "display_name": "Python 3",
   "language": "python",
   "name": "python3"
  },
  "language_info": {
   "codemirror_mode": {
    "name": "ipython",
    "version": 3
   },
   "file_extension": ".py",
   "mimetype": "text/x-python",
   "name": "python",
   "nbconvert_exporter": "python",
   "pygments_lexer": "ipython3",
   "version": "3.7.1"
  }
 },
 "nbformat": 4,
 "nbformat_minor": 2
}
