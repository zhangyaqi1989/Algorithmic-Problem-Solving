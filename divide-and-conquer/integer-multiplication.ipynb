{
 "cells": [
  {
   "cell_type": "markdown",
   "metadata": {},
   "source": [
    "## 1. Integer Multiplication"
   ]
  },
  {
   "cell_type": "markdown",
   "metadata": {},
   "source": [
    "![Integer Multiplication](images/integer-multiplication.PNG)"
   ]
  },
  {
   "cell_type": "code",
   "execution_count": 1,
   "metadata": {},
   "outputs": [],
   "source": [
    "def MSB(num):\n",
    "    \"Compute most significant bit of a binary number.\"\n",
    "    assert((1 << 32) > num)\n",
    "    n = 32\n",
    "    while n >= 0:\n",
    "        if ((1 << n) & num) != 0:\n",
    "            return n + 1\n",
    "        n -= 1\n",
    "    return 1 # "
   ]
  },
  {
   "cell_type": "code",
   "execution_count": 2,
   "metadata": {},
   "outputs": [],
   "source": [
    "def integer_multiplication_simple(a, b):\n",
    "    \"naive implementation of integer multiplication using divide and conquer.\"\n",
    "    n = max(MSB(a), MSB(b))\n",
    "    if n == 1:\n",
    "        return a * b\n",
    "    else:\n",
    "        if n & 1 == 1:\n",
    "            n += 1\n",
    "        half = n // 2\n",
    "        aR = a % (1 << half)\n",
    "        aL = a >> half\n",
    "        bR = b % (1 << half)\n",
    "        bL = b >> half\n",
    "        cLL = integer_multiplication_simple(aL, bL)\n",
    "        cLR = integer_multiplication_simple(aL, bR)\n",
    "        cRL = integer_multiplication_simple(aR, bL)\n",
    "        cRR = integer_multiplication_simple(aR, bR)\n",
    "        A = cLL << n\n",
    "        B = (cLR + cRL) << half\n",
    "        C = cRR\n",
    "        return A + B + C"
   ]
  },
  {
   "cell_type": "code",
   "execution_count": 3,
   "metadata": {},
   "outputs": [],
   "source": [
    "import random\n",
    "n = 123456\n",
    "for _ in range(100):\n",
    "    a, b = random.randint(1, n), random.randint(1, n)\n",
    "    assert(integer_multiplication_simple(a, b) == a * b)"
   ]
  },
  {
   "cell_type": "markdown",
   "metadata": {},
   "source": [
    "![Integer Multiplication](images/integer-multiplication-divide.PNG)"
   ]
  },
  {
   "cell_type": "code",
   "execution_count": 4,
   "metadata": {},
   "outputs": [],
   "source": [
    "def integer_multiplication(a, b):\n",
    "    \"Implementation of integer multiplication using divide and conquer.\"\n",
    "    n = max(MSB(a), MSB(b))\n",
    "    if n == 1:\n",
    "        return a * b\n",
    "    else:\n",
    "        if n & 1 == 1:\n",
    "            n += 1\n",
    "        half = n // 2\n",
    "        aR = a % (1 << half)\n",
    "        aL = a >> half\n",
    "        bR = b % (1 << half)\n",
    "        bL = b >> half\n",
    "        cLL = integer_multiplication(aL, bL)\n",
    "        cRR = integer_multiplication(aR, bR)\n",
    "        cM = integer_multiplication(aL + aR, bL + bR) - cLL - cRR\n",
    "        A = cLL << n\n",
    "        B = cM << half\n",
    "        C = cRR\n",
    "        return A + B + C"
   ]
  },
  {
   "cell_type": "code",
   "execution_count": 5,
   "metadata": {},
   "outputs": [],
   "source": [
    "import random\n",
    "n = 123456\n",
    "for _ in range(100):\n",
    "    a, b = random.randint(1, n), random.randint(1, n)\n",
    "    assert(integer_multiplication(a, b) == a * b)"
   ]
  },
  {
   "cell_type": "code",
   "execution_count": null,
   "metadata": {},
   "outputs": [],
   "source": []
  }
 ],
 "metadata": {
  "kernelspec": {
   "display_name": "Python 3",
   "language": "python",
   "name": "python3"
  },
  "language_info": {
   "codemirror_mode": {
    "name": "ipython",
    "version": 3
   },
   "file_extension": ".py",
   "mimetype": "text/x-python",
   "name": "python",
   "nbconvert_exporter": "python",
   "pygments_lexer": "ipython3",
   "version": "3.7.1"
  }
 },
 "nbformat": 4,
 "nbformat_minor": 2
}
